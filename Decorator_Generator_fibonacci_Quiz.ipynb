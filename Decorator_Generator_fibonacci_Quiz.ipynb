{
  "nbformat": 4,
  "nbformat_minor": 0,
  "metadata": {
    "kernelspec": {
      "display_name": "Python 3",
      "language": "python",
      "name": "python3"
    },
    "language_info": {
      "codemirror_mode": {
        "name": "ipython",
        "version": 3
      },
      "file_extension": ".py",
      "mimetype": "text/x-python",
      "name": "python",
      "nbconvert_exporter": "python",
      "pygments_lexer": "ipython3",
      "version": "3.7.6"
    },
    "colab": {
      "name": "Decorator_Generator_fibonacci_Quiz.ipynb",
      "provenance": [],
      "include_colab_link": true
    }
  },
  "cells": [
    {
      "cell_type": "markdown",
      "metadata": {
        "id": "view-in-github",
        "colab_type": "text"
      },
      "source": [
        "<a href=\"https://colab.research.google.com/github/hdaeun98/inyoface/blob/master/Decorator_Generator_fibonacci_Quiz.ipynb\" target=\"_parent\"><img src=\"https://colab.research.google.com/assets/colab-badge.svg\" alt=\"Open In Colab\"/></a>"
      ]
    },
    {
      "cell_type": "code",
      "metadata": {
        "id": "56fBMDdWnzEZ",
        "colab_type": "code",
        "colab": {}
      },
      "source": [
        "## Q 1-1.\n",
        "def gen_fibon(n):\n",
        "    pass"
      ],
      "execution_count": 0,
      "outputs": []
    },
    {
      "cell_type": "code",
      "metadata": {
        "id": "mvAGG6iYnzEd",
        "colab_type": "code",
        "colab": {}
      },
      "source": [
        "gen_fibon(20)\n",
        "\n",
        "\"\"\"expected output\n",
        "<generator object gen_fibon at 0x000002266F6CB448>\n",
        "\"\"\""
      ],
      "execution_count": 0,
      "outputs": []
    },
    {
      "cell_type": "code",
      "metadata": {
        "id": "17XOrHp-nzEg",
        "colab_type": "code",
        "colab": {}
      },
      "source": [
        "for x in gen_fibon(20):\n",
        "    print(x)\n",
        "    \n",
        "    \n",
        "\"\"\"expected output\n",
        "1\n",
        "1\n",
        "2\n",
        "3\n",
        "5\n",
        "8\n",
        "13\n",
        "21\n",
        "34\n",
        "55\n",
        "89\n",
        "144\n",
        "233\n",
        "377\n",
        "610\n",
        "987\n",
        "1597\n",
        "2584\n",
        "4181\n",
        "6765\n",
        "\"\"\""
      ],
      "execution_count": 0,
      "outputs": []
    },
    {
      "cell_type": "code",
      "metadata": {
        "id": "_alGtjoTnzEj",
        "colab_type": "code",
        "colab": {}
      },
      "source": [
        ""
      ],
      "execution_count": 0,
      "outputs": []
    },
    {
      "cell_type": "code",
      "metadata": {
        "id": "8a8HpfwZnzEl",
        "colab_type": "code",
        "colab": {}
      },
      "source": [
        "## Q 1-2. \n",
        "# make a fibonacci sequence and extract even numbers (without list method)\n",
        "\n",
        "def gen_even_fibon(n):\n",
        "pass\n"
      ],
      "execution_count": 0,
      "outputs": []
    },
    {
      "cell_type": "code",
      "metadata": {
        "id": "eR-AoVrunzEo",
        "colab_type": "code",
        "colab": {}
      },
      "source": [
        "gen_even_fibon(200)\n",
        "\n",
        "\"\"\"expected output\n",
        "\n",
        "<generator object gen_even_fibon at 0x000002266F6CB948>\n",
        "\n",
        "\"\"\""
      ],
      "execution_count": 0,
      "outputs": []
    },
    {
      "cell_type": "code",
      "metadata": {
        "id": "VSQKbgKVnzEq",
        "colab_type": "code",
        "colab": {}
      },
      "source": [
        "for x in gen_even_fibon(200):\n",
        "    print(x)\n",
        "    \n",
        "\"\"\"expected output\n",
        "\n",
        "2\n",
        "8\n",
        "34\n",
        "144\n",
        "610\n",
        "2584\n",
        "10946\n",
        "46368\n",
        "196418\n",
        "832040\n",
        "3524578\n",
        "14930352\n",
        "63245986\n",
        "267914296\n",
        "1134903170\n",
        "4807526976\n",
        "20365011074\n",
        "86267571272\n",
        "365435296162\n",
        "1548008755920\n",
        "6557470319842\n",
        "27777890035288\n",
        "117669030460994\n",
        "498454011879264\n",
        "2111485077978050\n",
        "8944394323791464\n",
        "37889062373143906\n",
        "160500643816367088\n",
        "679891637638612258\n",
        "2880067194370816120\n",
        "12200160415121876738\n",
        "51680708854858323072\n",
        "218922995834555169026\n",
        "927372692193078999176\n",
        "3928413764606871165730\n",
        "16641027750620563662096\n",
        "70492524767089125814114\n",
        "298611126818977066918552\n",
        "1264937032042997393488322\n",
        "5358359254990966640871840\n",
        "22698374052006863956975682\n",
        "96151855463018422468774568\n",
        "407305795904080553832073954\n",
        "1725375039079340637797070384\n",
        "7308805952221443105020355490\n",
        "30960598847965113057878492344\n",
        "131151201344081895336534324866\n",
        "555565404224292694404015791808\n",
        "2353412818241252672952597492098\n",
        "9969216677189303386214405760200\n",
        "42230279526998466217810220532898\n",
        "178890334785183168257455287891792\n",
        "757791618667731139247631372100066\n",
        "3210056809456107725247980776292056\n",
        "13598018856492162040239554477268290\n",
        "57602132235424755886206198685365216\n",
        "244006547798191185585064349218729154\n",
        "1033628323428189498226463595560281832\n",
        "4378519841510949178490918731459856482\n",
        "18547707689471986212190138521399707760\n",
        "78569350599398894027251472817058687522\n",
        "332825110087067562321196029789634457848\n",
        "1409869790947669143312035591975596518914\n",
        "5972304273877744135569338397692020533504\n",
        "25299086886458645685589389182743678652930\n",
        "107168651819712326877926895128666735145224\n",
        "\"\"\"    "
      ],
      "execution_count": 0,
      "outputs": []
    },
    {
      "cell_type": "code",
      "metadata": {
        "id": "7DNWvXiknzEt",
        "colab_type": "code",
        "colab": {}
      },
      "source": [
        "## Q 1-3. Decorator(wrapping) + Generator\n",
        "def gen_fib_sum(n):\n",
        "    def gen_fib():\n",
        "    pass\n",
        "\n",
        "pass\n",
        "\n",
        "\n",
        "    \n",
        " "
      ],
      "execution_count": 0,
      "outputs": []
    },
    {
      "cell_type": "code",
      "metadata": {
        "id": "Q_Ho2-xqnzEv",
        "colab_type": "code",
        "colab": {}
      },
      "source": [
        "gen_fib_sum(5)\n",
        "\n",
        "\"\"\"expected output\n",
        "12\n",
        "\"\"\""
      ],
      "execution_count": 0,
      "outputs": []
    }
  ]
}